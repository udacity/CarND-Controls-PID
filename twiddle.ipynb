{
 "cells": [
  {
   "cell_type": "code",
   "execution_count": 12,
   "metadata": {
    "collapsed": true
   },
   "outputs": [],
   "source": [
    "import re\n",
    "from subprocess import check_output\n",
    "\n",
    "def run(p, steps=1500):\n",
    "    out = check_output([\"build/pid\", str(p[0]), str(p[1]), str(p[2]), str(steps)])\n",
    "    out = out.decode().replace(\"4567\", \"\")\n",
    "    numbers = re.findall(r\"[-+]?\\d*\\.\\d+|\\d+\", out)\n",
    "    return float(numbers[0])\n",
    "\n",
    "def twiddle(tol=0.1, steps=1500):\n",
    "    p = [0.0, 0.0, 0.0]\n",
    "    dp = [1.0, 1.0, 1.0]\n",
    "    best_err = run(p, steps)\n",
    "    \n",
    "    it = 0\n",
    "    while sum(dp) > tol:\n",
    "        print(\"Iteration {}, best_error={}, p=[{:.3f} {:.3f} {:.3f}], dp=[{:.3f} {:.3f} {:.3f}]\".format(\n",
    "                it, best_err, \n",
    "                p[0], p[1], p[2], \n",
    "                dp[0], dp[1], dp[2]))\n",
    "\n",
    "        for i in range(len(p)):\n",
    "            p[i] += dp[i]\n",
    "            err = run(p, steps)\n",
    "\n",
    "            if err < best_err:\n",
    "                best_err = err\n",
    "                dp[i] *= 1.1\n",
    "            else:\n",
    "                p[i] -= 2 * dp[i]\n",
    "                err = run(p, steps)\n",
    "                \n",
    "                if err < best_err:\n",
    "                    best_err = err\n",
    "                    dp[i] *= 1.1\n",
    "                else:\n",
    "                    p[i] += dp[i]\n",
    "                    dp[i] *= 0.9\n",
    "        it += 1\n",
    "    return p"
   ]
  },
  {
   "cell_type": "code",
   "execution_count": 13,
   "metadata": {
    "collapsed": false
   },
   "outputs": [
    {
     "name": "stdout",
     "output_type": "stream",
     "text": [
      "Iteration 0, best_error=3.036038, p=[0.000 0.000 0.000], dp=[1.000 1.000 1.000]\n",
      "Iteration 1, best_error=2.272517, p=[0.000 0.000 -1.000], dp=[0.900 0.900 1.100]\n",
      "Iteration 2, best_error=2.192851, p=[0.000 0.000 -2.100], dp=[0.810 0.810 1.210]\n",
      "Iteration 3, best_error=2.192851, p=[0.000 0.000 -2.100], dp=[0.729 0.729 1.089]\n",
      "Iteration 4, best_error=2.192851, p=[0.000 0.000 -2.100], dp=[0.656 0.656 0.980]\n",
      "Iteration 5, best_error=1.476387, p=[0.656 0.000 -1.120], dp=[0.722 0.590 1.078]\n",
      "Iteration 6, best_error=1.476387, p=[0.656 0.000 -1.120], dp=[0.650 0.531 0.970]\n",
      "Iteration 7, best_error=1.476387, p=[0.656 0.000 -1.120], dp=[0.585 0.478 0.873]\n",
      "Iteration 8, best_error=1.154614, p=[0.072 0.000 -1.120], dp=[0.643 0.430 0.786]\n",
      "Iteration 9, best_error=1.154614, p=[0.072 0.000 -1.120], dp=[0.579 0.387 0.707]\n",
      "Iteration 10, best_error=1.154614, p=[0.072 0.000 -1.120], dp=[0.521 0.349 0.637]\n",
      "Iteration 11, best_error=1.154614, p=[0.072 0.000 -1.120], dp=[0.469 0.314 0.573]\n",
      "Iteration 12, best_error=1.154614, p=[0.072 0.000 -1.120], dp=[0.422 0.282 0.516]\n",
      "Iteration 13, best_error=1.154614, p=[0.072 0.000 -1.120], dp=[0.380 0.254 0.464]\n",
      "Iteration 14, best_error=1.154614, p=[0.072 0.000 -1.120], dp=[0.342 0.229 0.418]\n",
      "Iteration 15, best_error=1.154614, p=[0.072 0.000 -1.120], dp=[0.308 0.206 0.376]\n",
      "Iteration 16, best_error=1.154614, p=[0.072 0.000 -1.120], dp=[0.277 0.185 0.338]\n",
      "Iteration 17, best_error=1.154614, p=[0.072 0.000 -1.120], dp=[0.249 0.167 0.304]\n",
      "Iteration 18, best_error=1.154614, p=[0.072 0.000 -1.120], dp=[0.224 0.150 0.274]\n",
      "Iteration 19, best_error=1.154614, p=[0.072 0.000 -1.120], dp=[0.202 0.135 0.247]\n",
      "Iteration 20, best_error=1.154614, p=[0.072 0.000 -1.120], dp=[0.182 0.122 0.222]\n",
      "Iteration 21, best_error=1.154614, p=[0.072 0.000 -1.120], dp=[0.163 0.109 0.200]\n",
      "Iteration 22, best_error=1.154614, p=[0.072 0.000 -1.120], dp=[0.147 0.098 0.180]\n",
      "Iteration 23, best_error=1.154614, p=[0.072 0.000 -1.120], dp=[0.132 0.089 0.162]\n",
      "Iteration 24, best_error=1.154614, p=[0.072 0.000 -1.120], dp=[0.119 0.080 0.146]\n",
      "Iteration 25, best_error=1.154614, p=[0.072 0.000 -1.120], dp=[0.107 0.072 0.131]\n",
      "Iteration 26, best_error=1.115729, p=[0.072 0.000 -1.251], dp=[0.097 0.065 0.144]\n",
      "Iteration 27, best_error=1.115729, p=[0.072 0.000 -1.251], dp=[0.087 0.058 0.130]\n",
      "Iteration 28, best_error=1.115729, p=[0.072 0.000 -1.251], dp=[0.078 0.052 0.117]\n",
      "Iteration 29, best_error=1.115729, p=[0.072 0.000 -1.251], dp=[0.070 0.047 0.105]\n",
      "Iteration 30, best_error=1.115729, p=[0.072 0.000 -1.251], dp=[0.063 0.042 0.095]\n",
      "Iteration 31, best_error=1.115729, p=[0.072 0.000 -1.251], dp=[0.057 0.038 0.085]\n",
      "Iteration 32, best_error=1.115729, p=[0.072 0.000 -1.251], dp=[0.051 0.034 0.077]\n",
      "Iteration 33, best_error=1.115729, p=[0.072 0.000 -1.251], dp=[0.046 0.031 0.069]\n",
      "Iteration 34, best_error=1.115729, p=[0.072 0.000 -1.251], dp=[0.042 0.028 0.062]\n",
      "Iteration 35, best_error=1.115729, p=[0.072 0.000 -1.251], dp=[0.037 0.025 0.056]\n",
      "Iteration 36, best_error=1.115729, p=[0.072 0.000 -1.251], dp=[0.034 0.023 0.050]\n",
      "Iteration 37, best_error=1.115729, p=[0.072 0.000 -1.251], dp=[0.030 0.020 0.045]\n",
      "Iteration 38, best_error=1.115729, p=[0.072 0.000 -1.251], dp=[0.027 0.018 0.041]\n",
      "Iteration 39, best_error=1.115729, p=[0.072 0.000 -1.251], dp=[0.025 0.016 0.037]\n",
      "Iteration 40, best_error=1.115729, p=[0.072 0.000 -1.251], dp=[0.022 0.015 0.033]\n",
      "Iteration 41, best_error=1.115729, p=[0.072 0.000 -1.251], dp=[0.020 0.013 0.030]\n",
      "Iteration 42, best_error=1.115729, p=[0.072 0.000 -1.251], dp=[0.018 0.012 0.027]\n",
      "Iteration 43, best_error=1.115729, p=[0.072 0.000 -1.251], dp=[0.016 0.011 0.024]\n",
      "Iteration 44, best_error=1.115729, p=[0.072 0.000 -1.251], dp=[0.014 0.010 0.022]\n",
      "Iteration 45, best_error=1.115729, p=[0.072 0.000 -1.251], dp=[0.013 0.009 0.019]\n",
      "Iteration 46, best_error=1.115729, p=[0.072 0.000 -1.251], dp=[0.012 0.008 0.018]\n",
      "Iteration 47, best_error=1.115729, p=[0.072 0.000 -1.251], dp=[0.011 0.007 0.016]\n",
      "Iteration 48, best_error=1.115729, p=[0.072 0.000 -1.251], dp=[0.010 0.006 0.014]\n",
      "Iteration 49, best_error=1.086856, p=[0.072 0.000 -1.237], dp=[0.009 0.006 0.016]\n",
      "Iteration 50, best_error=1.086856, p=[0.072 0.000 -1.237], dp=[0.008 0.005 0.014]\n",
      "Iteration 51, best_error=1.086856, p=[0.072 0.000 -1.237], dp=[0.007 0.005 0.013]\n",
      "Iteration 52, best_error=1.086856, p=[0.072 0.000 -1.237], dp=[0.006 0.004 0.011]\n",
      "Iteration 53, best_error=1.086856, p=[0.072 0.000 -1.237], dp=[0.006 0.004 0.010]\n",
      "Iteration 54, best_error=1.086856, p=[0.072 0.000 -1.237], dp=[0.005 0.003 0.009]\n",
      "Iteration 55, best_error=1.086856, p=[0.072 0.000 -1.237], dp=[0.005 0.003 0.008]\n",
      "Iteration 56, best_error=1.086856, p=[0.072 0.000 -1.237], dp=[0.004 0.003 0.007]\n",
      "Iteration 57, best_error=1.086856, p=[0.072 0.000 -1.237], dp=[0.004 0.002 0.007]\n",
      "Iteration 58, best_error=1.03014, p=[0.072 0.000 -1.230], dp=[0.003 0.002 0.007]\n",
      "Iteration 59, best_error=1.03014, p=[0.072 0.000 -1.230], dp=[0.003 0.002 0.007]\n",
      "Iteration 60, best_error=1.03014, p=[0.072 0.000 -1.230], dp=[0.003 0.002 0.006]\n",
      "Iteration 61, best_error=1.03014, p=[0.072 0.000 -1.230], dp=[0.002 0.002 0.005]\n",
      "Iteration 62, best_error=1.03014, p=[0.072 0.000 -1.230], dp=[0.002 0.001 0.005]\n",
      "Iteration 63, best_error=1.03014, p=[0.072 0.000 -1.230], dp=[0.002 0.001 0.004]\n",
      "Iteration 64, best_error=1.03014, p=[0.072 0.000 -1.230], dp=[0.002 0.001 0.004]\n",
      "Iteration 65, best_error=1.03014, p=[0.072 0.000 -1.230], dp=[0.002 0.001 0.004]\n",
      "Iteration 66, best_error=1.03014, p=[0.072 0.000 -1.230], dp=[0.001 0.001 0.003]\n",
      "Iteration 67, best_error=1.03014, p=[0.072 0.000 -1.230], dp=[0.001 0.001 0.003]\n",
      "Iteration 68, best_error=1.03014, p=[0.072 0.000 -1.230], dp=[0.001 0.001 0.003]\n",
      "Iteration 69, best_error=1.03014, p=[0.072 0.000 -1.230], dp=[0.001 0.001 0.002]\n",
      "Iteration 70, best_error=1.03014, p=[0.072 0.000 -1.230], dp=[0.001 0.001 0.002]\n",
      "Iteration 71, best_error=1.03014, p=[0.072 0.000 -1.230], dp=[0.001 0.001 0.002]\n",
      "Iteration 72, best_error=1.03014, p=[0.072 0.000 -1.230], dp=[0.001 0.001 0.002]\n",
      "Iteration 73, best_error=1.03014, p=[0.072 0.000 -1.230], dp=[0.001 0.000 0.002]\n",
      "Iteration 74, best_error=1.03014, p=[0.072 0.000 -1.230], dp=[0.001 0.000 0.001]\n",
      "Iteration 75, best_error=1.03014, p=[0.072 0.000 -1.230], dp=[0.001 0.000 0.001]\n",
      "Iteration 76, best_error=1.03014, p=[0.072 0.000 -1.230], dp=[0.000 0.000 0.001]\n",
      "Iteration 77, best_error=1.03014, p=[0.072 0.000 -1.230], dp=[0.000 0.000 0.001]\n",
      "Iteration 78, best_error=1.03014, p=[0.072 0.000 -1.230], dp=[0.000 0.000 0.001]\n",
      "Iteration 79, best_error=1.03014, p=[0.072 0.000 -1.230], dp=[0.000 0.000 0.001]\n",
      "Iteration 80, best_error=1.03014, p=[0.072 0.000 -1.230], dp=[0.000 0.000 0.001]\n",
      "Iteration 81, best_error=1.03014, p=[0.072 0.000 -1.230], dp=[0.000 0.000 0.001]\n",
      "Iteration 82, best_error=1.03014, p=[0.072 0.000 -1.230], dp=[0.000 0.000 0.001]\n"
     ]
    },
    {
     "data": {
      "text/plain": [
       "[0.07151489999999988, 0.0, -1.2300513826304142]"
      ]
     },
     "execution_count": 13,
     "metadata": {},
     "output_type": "execute_result"
    }
   ],
   "source": [
    "twiddle(tol=0.001, steps=1000)"
   ]
  }
 ],
 "metadata": {
  "kernelspec": {
   "display_name": "Python 2",
   "language": "python",
   "name": "python2"
  },
  "language_info": {
   "codemirror_mode": {
    "name": "ipython",
    "version": 2
   },
   "file_extension": ".py",
   "mimetype": "text/x-python",
   "name": "python",
   "nbconvert_exporter": "python",
   "pygments_lexer": "ipython2",
   "version": "2.7.12"
  }
 },
 "nbformat": 4,
 "nbformat_minor": 0
}
